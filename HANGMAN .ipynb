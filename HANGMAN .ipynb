{
 "cells": [
  {
   "cell_type": "markdown",
   "id": "fccf077e-49ba-47b2-b9de-4e5fa60d5345",
   "metadata": {},
   "source": [
    "STEP1 - 1"
   ]
  },
  {
   "cell_type": "code",
   "execution_count": 10,
   "id": "c70291b9-4aec-45f2-91c6-10fb90444008",
   "metadata": {},
   "outputs": [
    {
     "name": "stdout",
     "output_type": "stream",
     "text": [
      "baboon\n"
     ]
    },
    {
     "name": "stdin",
     "output_type": "stream",
     "text": [
      "Guess a letter:  l\n"
     ]
    },
    {
     "name": "stdout",
     "output_type": "stream",
     "text": [
      "l\n",
      "Wrong\n",
      "Wrong\n",
      "Wrong\n",
      "Wrong\n",
      "Wrong\n",
      "Wrong\n"
     ]
    }
   ],
   "source": [
    "import random\n",
    "word_list = [\"aardvark\", \"baboon\", \"camel\", \"laddoo\", \"lakshika\"]\n",
    "\n",
    "#TODO -1 = randomly choose a word from the word_list and assign it to a variable called chosen_word. Then print it\n",
    "chosen_word = random.choice(word_list)\n",
    "print(chosen_word)\n",
    "\n",
    "#TODO -2 = Ask the user to guess a letter and assign their answer to a variable called guess. Make your lowercase.\n",
    "guess = input(\"Guess a letter: \").lower()\n",
    "print(guess)\n",
    "\n",
    "#TODO _3 = Check if the letter the user guessed (guess) is one of the letters in the chosen_word. Print \"Right\" if it is, \"Wrong\" if it's not\n",
    "for letter in chosen_word:\n",
    "    if letter == guess:\n",
    "        print(\"Right\")\n",
    "    else:\n",
    "        print(\"Wrong\")"
   ]
  },
  {
   "cell_type": "markdown",
   "id": "e0196a66-ac6b-42d4-863e-fd8237446b42",
   "metadata": {},
   "source": [
    "STEP - 2"
   ]
  },
  {
   "cell_type": "code",
   "execution_count": 19,
   "id": "1acc1075-ee43-4ad4-8404-17e2409d76dd",
   "metadata": {},
   "outputs": [
    {
     "name": "stdout",
     "output_type": "stream",
     "text": [
      "lakshika\n",
      "________\n"
     ]
    },
    {
     "name": "stdin",
     "output_type": "stream",
     "text": [
      "Guess a letter:  k\n"
     ]
    },
    {
     "name": "stdout",
     "output_type": "stream",
     "text": [
      "__k___k_\n"
     ]
    }
   ],
   "source": [
    "import random\n",
    "word_list = [\"aardvark\", \"baboon\", \"camel\", \"laddoo\", \"lakshika\"]\n",
    "chosen_word = random.choice(word_list)\n",
    "print(chosen_word)\n",
    "\n",
    "#TODO -1 = Create a \"Placeholder\" with a same number of blanks as the chosen_word\n",
    "placeholder = \"\"\n",
    "word_length = len(chosen_word)\n",
    "for position in range(word_length):\n",
    "    placeholder += \"_\"\n",
    "print(placeholder)\n",
    "guess = input(\"Guess a letter: \").lower()\n",
    "\n",
    "#TODO -2 = Create a \"display\" that puts the guess letter in the right positions and _ and in the rest of the string.\n",
    "display = \"\"\n",
    "\n",
    "for letter in chosen_word:\n",
    "    if letter == guess:\n",
    "        display += letter\n",
    "    else:\n",
    "        display += \"_\"\n",
    "print(display)"
   ]
  },
  {
   "cell_type": "markdown",
   "id": "10026a27-517a-4c8f-afa7-a49e24073163",
   "metadata": {},
   "source": [
    "STEP - 3"
   ]
  },
  {
   "cell_type": "code",
   "execution_count": 26,
   "id": "fae8fd4d-bc66-4aea-b418-400c4f0c0d7a",
   "metadata": {},
   "outputs": [
    {
     "name": "stdout",
     "output_type": "stream",
     "text": [
      "camel\n",
      "_____\n"
     ]
    },
    {
     "name": "stdin",
     "output_type": "stream",
     "text": [
      "Guess a letter:  a\n"
     ]
    },
    {
     "name": "stdout",
     "output_type": "stream",
     "text": [
      "_\n",
      "_a\n",
      "_a_\n",
      "_a__\n",
      "_a___\n"
     ]
    },
    {
     "name": "stdin",
     "output_type": "stream",
     "text": [
      "Guess a letter:  m\n"
     ]
    },
    {
     "name": "stdout",
     "output_type": "stream",
     "text": [
      "_\n",
      "_a\n",
      "_am\n",
      "_am_\n",
      "_am__\n"
     ]
    },
    {
     "name": "stdin",
     "output_type": "stream",
     "text": [
      "Guess a letter:  e\n"
     ]
    },
    {
     "name": "stdout",
     "output_type": "stream",
     "text": [
      "_\n",
      "_a\n",
      "_am\n",
      "_ame\n",
      "_ame_\n"
     ]
    },
    {
     "name": "stdin",
     "output_type": "stream",
     "text": [
      "Guess a letter:  l\n"
     ]
    },
    {
     "name": "stdout",
     "output_type": "stream",
     "text": [
      "_\n",
      "_a\n",
      "_am\n",
      "_ame\n",
      "_amel\n"
     ]
    },
    {
     "name": "stdin",
     "output_type": "stream",
     "text": [
      "Guess a letter:  c\n"
     ]
    },
    {
     "name": "stdout",
     "output_type": "stream",
     "text": [
      "c\n",
      "ca\n",
      "cam\n",
      "came\n",
      "camel\n",
      "You win!\n"
     ]
    }
   ],
   "source": [
    "import random\n",
    "word_list = [\"aardvark\", \"baboon\", \"camel\", \"laddoo\", \"lakshika\"]\n",
    "chosen_word = random.choice(word_list)\n",
    "print(chosen_word)\n",
    "\n",
    "\n",
    "placeholder = \"\"\n",
    "word_length = len(chosen_word)\n",
    "for position in range(word_length):\n",
    "    placeholder += \"_\"\n",
    "print(placeholder)\n",
    "\n",
    "#TODO -1 = Use a while loop to let the user guess again.\n",
    "game_over = False\n",
    "correct_letters = []\n",
    "while not game_over:\n",
    "    guess = input(\"Guess a letter: \").lower()\n",
    "    display = \"\"\n",
    "    #TODO -2 = Change the for loop so that you keep the previous correct letter in display.\n",
    "    for letter in chosen_word:\n",
    "        if letter == guess:\n",
    "            display += letter\n",
    "            correct_letters.append(guess)\n",
    "        elif letter in correct_letters:\n",
    "            display += letter\n",
    "        else:\n",
    "            display += \"_\"\n",
    "        print(display)\n",
    "    if \"_\" not in display:\n",
    "        game_over = True\n",
    "        print(\"You win!\")"
   ]
  },
  {
   "cell_type": "markdown",
   "id": "2a3b3543-d1be-4bb1-8caa-67633f0fd471",
   "metadata": {},
   "source": [
    "STEP - 4"
   ]
  },
  {
   "cell_type": "code",
   "execution_count": 29,
   "id": "94cd465d-a5ca-4ff2-b25d-caf4d15adf16",
   "metadata": {},
   "outputs": [
    {
     "name": "stderr",
     "output_type": "stream",
     "text": [
      "<>:6: SyntaxWarning: invalid escape sequence '\\ '\n",
      "<>:14: SyntaxWarning: invalid escape sequence '\\ '\n",
      "<>:22: SyntaxWarning: invalid escape sequence '\\ '\n",
      "<>:6: SyntaxWarning: invalid escape sequence '\\ '\n",
      "<>:14: SyntaxWarning: invalid escape sequence '\\ '\n",
      "<>:22: SyntaxWarning: invalid escape sequence '\\ '\n",
      "/var/folders/vm/6jpgz9014dx7glq3czkljdqr0000gn/T/ipykernel_75475/2415418868.py:6: SyntaxWarning: invalid escape sequence '\\ '\n",
      "  /|\\  |\n",
      "/var/folders/vm/6jpgz9014dx7glq3czkljdqr0000gn/T/ipykernel_75475/2415418868.py:14: SyntaxWarning: invalid escape sequence '\\ '\n",
      "  /|\\  |\n",
      "/var/folders/vm/6jpgz9014dx7glq3czkljdqr0000gn/T/ipykernel_75475/2415418868.py:22: SyntaxWarning: invalid escape sequence '\\ '\n",
      "  /|\\  |\n"
     ]
    },
    {
     "name": "stdout",
     "output_type": "stream",
     "text": [
      "aardvark\n",
      "________\n"
     ]
    },
    {
     "name": "stdin",
     "output_type": "stream",
     "text": [
      "Guess a letter:  a\n"
     ]
    },
    {
     "name": "stdout",
     "output_type": "stream",
     "text": [
      "aa___a__\n",
      "\n",
      "\n"
     ]
    },
    {
     "name": "stdin",
     "output_type": "stream",
     "text": [
      "Guess a letter:  r\n"
     ]
    },
    {
     "name": "stdout",
     "output_type": "stream",
     "text": [
      "aar__ar_\n",
      "\n",
      "\n"
     ]
    },
    {
     "name": "stdin",
     "output_type": "stream",
     "text": [
      "Guess a letter:  d\n"
     ]
    },
    {
     "name": "stdout",
     "output_type": "stream",
     "text": [
      "aard_ar_\n",
      "\n",
      "\n"
     ]
    },
    {
     "name": "stdin",
     "output_type": "stream",
     "text": [
      "Guess a letter:  v\n"
     ]
    },
    {
     "name": "stdout",
     "output_type": "stream",
     "text": [
      "aardvar_\n",
      "\n",
      "\n"
     ]
    },
    {
     "name": "stdin",
     "output_type": "stream",
     "text": [
      "Guess a letter:  h\n"
     ]
    },
    {
     "name": "stdout",
     "output_type": "stream",
     "text": [
      "aardvar_\n",
      "\n",
      "  +---+\n",
      "  |   |\n",
      "      |\n",
      "      |\n",
      "      |\n",
      "      |\n",
      "=========\n",
      "\n"
     ]
    },
    {
     "name": "stdin",
     "output_type": "stream",
     "text": [
      "Guess a letter:  hh\n"
     ]
    },
    {
     "name": "stdout",
     "output_type": "stream",
     "text": [
      "aardvar_\n",
      "\n",
      "  +---+\n",
      "  |   |\n",
      "  0   |\n",
      "      |\n",
      "      |\n",
      "      |\n",
      "=========\n",
      "\n"
     ]
    },
    {
     "name": "stdin",
     "output_type": "stream",
     "text": [
      "Guess a letter:  j\n"
     ]
    },
    {
     "name": "stdout",
     "output_type": "stream",
     "text": [
      "aardvar_\n",
      "\n",
      "  +---+\n",
      "  |   |\n",
      "  0   |\n",
      "  |   |\n",
      "      |\n",
      "      |\n",
      "=========\n",
      "\n"
     ]
    },
    {
     "name": "stdin",
     "output_type": "stream",
     "text": [
      "Guess a letter:  \n"
     ]
    },
    {
     "name": "stdout",
     "output_type": "stream",
     "text": [
      "aardvar_\n",
      "\n",
      "  +---+\n",
      "  |   |\n",
      "  0   |\n",
      "  |   |\n",
      "      |\n",
      "      |\n",
      "=========\n",
      "\n"
     ]
    },
    {
     "name": "stdin",
     "output_type": "stream",
     "text": [
      "Guess a letter:  u\n"
     ]
    },
    {
     "name": "stdout",
     "output_type": "stream",
     "text": [
      "aardvar_\n",
      "\n",
      "  +---+\n",
      "  |   |\n",
      "  0   |\n",
      " /|\\  |\n",
      "      |\n",
      "      |\n",
      "=========\n",
      "\n"
     ]
    },
    {
     "name": "stdin",
     "output_type": "stream",
     "text": [
      "Guess a letter:  t\n"
     ]
    },
    {
     "name": "stdout",
     "output_type": "stream",
     "text": [
      "aardvar_\n",
      "\n",
      "  +---+\n",
      "  |   |\n",
      "  0   |\n",
      " /|\\  |\n",
      " /    |\n",
      "      |\n",
      "=========\n",
      "\n"
     ]
    },
    {
     "name": "stdin",
     "output_type": "stream",
     "text": [
      "Guess a letter:  r\n"
     ]
    },
    {
     "name": "stdout",
     "output_type": "stream",
     "text": [
      "aardvar_\n",
      "\n",
      "  +---+\n",
      "  |   |\n",
      "  0   |\n",
      " /|\\  |\n",
      " /    |\n",
      "      |\n",
      "=========\n",
      "\n"
     ]
    },
    {
     "name": "stdin",
     "output_type": "stream",
     "text": [
      "Guess a letter:  d\n"
     ]
    },
    {
     "name": "stdout",
     "output_type": "stream",
     "text": [
      "aardvar_\n",
      "\n",
      "  +---+\n",
      "  |   |\n",
      "  0   |\n",
      " /|\\  |\n",
      " /    |\n",
      "      |\n",
      "=========\n",
      "\n"
     ]
    },
    {
     "name": "stdin",
     "output_type": "stream",
     "text": [
      "Guess a letter:  g\n"
     ]
    },
    {
     "name": "stdout",
     "output_type": "stream",
     "text": [
      "aardvar_\n",
      "You lose!\n",
      "\n",
      "  +---+\n",
      "  |   |\n",
      "  0   |\n",
      " /|\\  |\n",
      " / \\  |\n",
      "      |\n",
      "=========\n",
      "\n"
     ]
    }
   ],
   "source": [
    "import random\n",
    "stages = ['''\n",
    "  +---+\n",
    "  |   |\n",
    "  0   |\n",
    " /|\\  |\n",
    " / \\  |\n",
    "      |\n",
    "=========\n",
    "''', '''\n",
    "  +---+\n",
    "  |   |\n",
    "  0   |\n",
    " /|\\  |\n",
    " /    |\n",
    "      |\n",
    "=========\n",
    "''', '''\n",
    "  +---+\n",
    "  |   |\n",
    "  0   |\n",
    " /|\\  |\n",
    "      |\n",
    "      |\n",
    "=========\n",
    "''', '''\n",
    "  +---+\n",
    "  |   |\n",
    "  0   |\n",
    "  |   |\n",
    "      |\n",
    "      |\n",
    "=========\n",
    "''', '''\n",
    "  +---+\n",
    "  |   |\n",
    "  0   |\n",
    "      |\n",
    "      |\n",
    "      |\n",
    "=========\n",
    "''', '''\n",
    "  +---+\n",
    "  |   |\n",
    "      |\n",
    "      |\n",
    "      |\n",
    "      |\n",
    "=========\n",
    "''', '''\n",
    "''']\n",
    "word_list = [\"aardvark\", \"baboon\", \"camel\", \"laddoo\", \"lakshika\"]\n",
    "\n",
    "#TODO -1 = Create a variable called lives to keep track of the number of lives left.\n",
    "# set 'lives' equal to 6.\n",
    "lives = 6\n",
    "chosen_word = random.choice(word_list)\n",
    "print(chosen_word)\n",
    "\n",
    "placeholder = \"\"\n",
    "word_length = len(chosen_word)\n",
    "for position in range(word_length):\n",
    "    placeholder += \"_\"\n",
    "print(placeholder)\n",
    "\n",
    "game_over = False\n",
    "correct_letters = []\n",
    "while not game_over:\n",
    "    guess = input(\"Guess a letter: \").lower()\n",
    "    display = \"\"\n",
    "   \n",
    "    for letter in chosen_word:\n",
    "        if letter == guess:\n",
    "            display += letter\n",
    "            correct_letters.append(guess)\n",
    "        elif letter in correct_letters:\n",
    "            display += letter\n",
    "        else:\n",
    "            display += \"_\"\n",
    "    print(display)\n",
    "    #TODO -2 = If guess is not a letter in the chosen_word , then reduce lives by 1.\n",
    "    #If lives goes down to 0 then the game should end, and it should print \"You lose!\".\n",
    "    if guess not in chosen_word:\n",
    "        lives -= 1\n",
    "        if lives == 0:\n",
    "            game_over = True\n",
    "            print(\"You lose!\")\n",
    "    if \"_\" not in display:\n",
    "        game_over = True\n",
    "        print(\"You win!\")\n",
    "    #TODO -3 = print the ASCII art from the list stages that corresponds to the current number of lives the user has remaining.\n",
    "    print(stages[lives])\n"
   ]
  },
  {
   "cell_type": "markdown",
   "id": "ee01f87f-403e-4a63-ae5c-83e75e4e1c63",
   "metadata": {},
   "source": [
    "STEP - 5"
   ]
  },
  {
   "cell_type": "code",
   "execution_count": null,
   "id": "99dd86d1-eb53-40fb-a88e-40f16688d1b6",
   "metadata": {},
   "outputs": [],
   "source": [
    "# Word list - simulating hangman_words.py\n",
    "word_list = [\n",
    "    \"python\", \"banana\", \"laptop\", \"mouse\", \"monitor\",\n",
    "    \"keyboard\", \"charger\", \"coffee\", \"bottle\", \"notebook\"\n",
    "]\n"
   ]
  },
  {
   "cell_type": "code",
   "execution_count": null,
   "id": "35f103e0-3c56-40cf-a8e6-c9d356e2d439",
   "metadata": {},
   "outputs": [],
   "source": [
    "# Art - simulating hangman_art.py\n",
    "stages = ['''\n",
    "  +---+\n",
    "  |   |\n",
    "  0   |\n",
    " /|\\  |\n",
    " / \\  |\n",
    "      |\n",
    "=========\n",
    "''', '''\n",
    "  +---+\n",
    "  |   |\n",
    "  0   |\n",
    " /|\\  |\n",
    " /    |\n",
    "      |\n",
    "=========\n",
    "''', '''\n",
    "  +---+\n",
    "  |   |\n",
    "  0   |\n",
    " /|\\  |\n",
    "      |\n",
    "      |\n",
    "=========\n",
    "''', '''\n",
    "  +---+\n",
    "  |   |\n",
    "  0   |\n",
    "  |   |\n",
    "      |\n",
    "      |\n",
    "=========\n",
    "''', '''\n",
    "  +---+\n",
    "  |   |\n",
    "  0   |\n",
    "      |\n",
    "      |\n",
    "      |\n",
    "=========\n",
    "''', '''\n",
    "  +---+\n",
    "  |   |\n",
    "      |\n",
    "      |\n",
    "      |\n",
    "      |\n",
    "=========\n",
    "''', '''\n",
    "''']\n",
    "\n",
    "logo = ['''\n",
    "\n",
    " -\n",
    "| |\n",
    "| |__   __ _ _ __    __ _   _ __ ___   __ _ _ __\n",
    "| '- \\ / _' | '_ \\  / _' | | '_ ' _ \\ /  ' | '_ \\\\\n",
    "| | | | (_| | |  | | (_| | | | | | | | (_| | | | |\n",
    "|_| |_|\\\\__,_|_|  |_|\\\\__,_| |_| |_| |_|\\\\__,_|_| |_|\n",
    "                     __/ |\n",
    "                    |___/  ''']\n"
   ]
  },
  {
   "cell_type": "code",
   "execution_count": null,
   "id": "1f902cdd-a76d-4e5a-a5be-c02a218286a7",
   "metadata": {},
   "outputs": [
    {
     "name": "stdout",
     "output_type": "stream",
     "text": [
      "\n",
      "\n",
      " -\n",
      "| |\n",
      "| |__   __ _ _ __    __ _   _ __ ___   __ _ _ __\n",
      "| '- \\ / _' | '_ \\  / _' | | '_ ' _ \\ /  ' | '_ | | | | (_| | |  | | (_| | | | | | | | (_| | | | |\n",
      "|_| |_|\\__,_|_|  |_|\\__,_| |_| |_| |_|\\__,_|_| |_|\n",
      "                     __/ |\n",
      "                    |___/  \n",
      "_____\n",
      "***************************6/6 LIVES LEFT***************************\n"
     ]
    },
    {
     "name": "stdin",
     "output_type": "stream",
     "text": [
      "Guess a letter:  a\n"
     ]
    },
    {
     "name": "stdout",
     "output_type": "stream",
     "text": [
      "word to guess : _a___\n",
      "\n",
      "\n",
      "***************************6/6 LIVES LEFT***************************\n"
     ]
    },
    {
     "name": "stdin",
     "output_type": "stream",
     "text": [
      "Guess a letter:  g\n"
     ]
    },
    {
     "name": "stdout",
     "output_type": "stream",
     "text": [
      "word to guess : _a___\n",
      "You guessed g, that's not in the word. You lose a life.\n",
      "\n",
      "  +---+\n",
      "  |   |\n",
      "      |\n",
      "      |\n",
      "      |\n",
      "      |\n",
      "=========\n",
      "\n",
      "***************************5/6 LIVES LEFT***************************\n"
     ]
    },
    {
     "name": "stdin",
     "output_type": "stream",
     "text": [
      "Guess a letter:  n\n"
     ]
    },
    {
     "name": "stdout",
     "output_type": "stream",
     "text": [
      "word to guess : _a___\n",
      "You guessed n, that's not in the word. You lose a life.\n",
      "\n",
      "  +---+\n",
      "  |   |\n",
      "  0   |\n",
      "      |\n",
      "      |\n",
      "      |\n",
      "=========\n",
      "\n",
      "***************************4/6 LIVES LEFT***************************\n"
     ]
    },
    {
     "name": "stdin",
     "output_type": "stream",
     "text": [
      "Guess a letter:  p\n"
     ]
    },
    {
     "name": "stdout",
     "output_type": "stream",
     "text": [
      "word to guess : _a___\n",
      "You guessed p, that's not in the word. You lose a life.\n",
      "\n",
      "  +---+\n",
      "  |   |\n",
      "  0   |\n",
      "  |   |\n",
      "      |\n",
      "      |\n",
      "=========\n",
      "\n",
      "***************************3/6 LIVES LEFT***************************\n"
     ]
    },
    {
     "name": "stdin",
     "output_type": "stream",
     "text": [
      "Guess a letter:  t\n"
     ]
    },
    {
     "name": "stdout",
     "output_type": "stream",
     "text": [
      "word to guess : _a___\n",
      "You guessed t, that's not in the word. You lose a life.\n",
      "\n",
      "  +---+\n",
      "  |   |\n",
      "  0   |\n",
      " /|\\  |\n",
      "      |\n",
      "      |\n",
      "=========\n",
      "\n",
      "***************************2/6 LIVES LEFT***************************\n"
     ]
    },
    {
     "name": "stdin",
     "output_type": "stream",
     "text": [
      "Guess a letter:  a\n"
     ]
    },
    {
     "name": "stdout",
     "output_type": "stream",
     "text": [
      "You have already guessed a\n",
      "word to guess : _a___\n",
      "\n",
      "  +---+\n",
      "  |   |\n",
      "  0   |\n",
      " /|\\  |\n",
      "      |\n",
      "      |\n",
      "=========\n",
      "\n",
      "***************************2/6 LIVES LEFT***************************\n"
     ]
    }
   ],
   "source": [
    "import random\n",
    "\n",
    "lives = 6\n",
    "\n",
    "print(logo[0])\n",
    "chosen_word = random.choice(word_list)\n",
    "\n",
    "placeholder = \"\"\n",
    "word_length = len(chosen_word)\n",
    "for position in range(word_length):\n",
    "    placeholder += \"_\"\n",
    "print(placeholder)\n",
    "\n",
    "game_over = False\n",
    "correct_letters = []\n",
    "\n",
    "while not game_over:\n",
    "    print(f\"***************************{lives}/6 LIVES LEFT***************************\")\n",
    "    guess = input(\"Guess a letter: \").lower()\n",
    "    \n",
    "    if guess in correct_letters:\n",
    "        print(f\"You have already guessed {guess}\")\n",
    "    display = \"\"\n",
    "    \n",
    "    for letter in chosen_word:\n",
    "        if letter == guess:\n",
    "            display += letter\n",
    "            correct_letters.append(guess)\n",
    "        elif letter in correct_letters:\n",
    "            display += letter\n",
    "        else:\n",
    "            display += \"_\"\n",
    "\n",
    "    print(\"word to guess : \" + display)\n",
    "    \n",
    "    if guess not in chosen_word:\n",
    "        lives -= 1\n",
    "        print(f\"You guessed {guess}, that's not in the word. You lose a life.\")\n",
    "        if lives == 0:\n",
    "            game_over = True\n",
    "            print(f\"**********************IT WAS {chosen_word}! YOU LOSE **********************\")\n",
    "    if \"_\" not in display:\n",
    "        game_over = True\n",
    "        print(\"**************************You win**************************\")\n",
    "    \n",
    "    print(stages[lives])\n"
   ]
  },
  {
   "cell_type": "code",
   "execution_count": null,
   "id": "9e16861e-68f0-4fee-8f2f-7b1832b4ebd5",
   "metadata": {},
   "outputs": [],
   "source": []
  }
 ],
 "metadata": {
  "kernelspec": {
   "display_name": "Python 3 (ipykernel)",
   "language": "python",
   "name": "python3"
  },
  "language_info": {
   "codemirror_mode": {
    "name": "ipython",
    "version": 3
   },
   "file_extension": ".py",
   "mimetype": "text/x-python",
   "name": "python",
   "nbconvert_exporter": "python",
   "pygments_lexer": "ipython3",
   "version": "3.13.3"
  }
 },
 "nbformat": 4,
 "nbformat_minor": 5
}
